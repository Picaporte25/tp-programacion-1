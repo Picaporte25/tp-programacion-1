{
 "cells": [
  {
   "cell_type": "code",
   "execution_count": null,
   "id": "d2f11054",
   "metadata": {},
   "outputs": [
    {
     "name": "stdout",
     "output_type": "stream",
     "text": [
      "Hola Mundo\n"
     ]
    }
   ],
   "source": [
    "# . Crear una función llamada imprimir_hola_mundo que imprima por\n",
    "# pantalla el mensaje: “Hola Mundo!”. Llamar a esta función desde el\n",
    "# programa principal.\n",
    "\n",
    "# Creacion de la Funcion imprimir_hola_mundo\n",
    "def imprimir_hola_mundo():\n",
    "    print(\"Hola Mundo\")\n",
    "\n",
    "# Llamada a la funcion imprimir_hola_mundo\n",
    "imprimir_hola_mundo()\n"
   ]
  },
  {
   "cell_type": "code",
   "execution_count": null,
   "id": "2cf6a75e",
   "metadata": {},
   "outputs": [
    {
     "name": "stdout",
     "output_type": "stream",
     "text": [
      "Hola maxi !\n"
     ]
    }
   ],
   "source": [
    "# . Crear una función llamada saludar_usuario(nombre) que reciba\n",
    "# como parámetro un nombre y devuelva un saludo personalizado.\n",
    "# Por ejemplo, si se llama con saludar_usuario(\"Marcos\"), deberá devolver: “Hola Marcos!”. Llamar a esta función desde el programa\n",
    "# principal solicitando el nombre al usuario.\n",
    "\n",
    "# Creacion de la funcion\n",
    "def saludar_usuario(a):\n",
    "    return f\"Hola {a} !\"\n",
    "    \n",
    "# Creacion de Variable\n",
    "nombre=input(\"Escriba su nombre: \")\n",
    "\n",
    "# Imprimir en pantalla el mensaje\n",
    "print(saludar_usuario(nombre))\n",
    "\n"
   ]
  },
  {
   "cell_type": "code",
   "execution_count": 6,
   "id": "41fa3677",
   "metadata": {},
   "outputs": [
    {
     "name": "stdout",
     "output_type": "stream",
     "text": [
      "Soy Maxi Ducoli, tengo 33 años y vivo en Caba.\n"
     ]
    }
   ],
   "source": [
    "# 3. Crear una función llamada informacion_personal(nombre, apellido,\n",
    "# edad, residencia) que reciba cuatro parámetros e imprima: “Soy\n",
    "# [nombre] [apellido], tengo [edad] años y vivo en [residencia]”. Pedir los datos al usuario y llamar a esta función con los valores ingresados.\n",
    "\n",
    "# Creacion de la funcion\n",
    "def informacion_personal(nombre, apellido,edad, residencia):\n",
    "    # Retorno de los datos\n",
    "    return f\"Soy {nombre} {apellido}, tengo {edad} años y vivo en {residencia}.\"\n",
    "\n",
    "# Creacion de variables e ingresando sus datos\n",
    "nombre = input(\"Escriba su nombre\")\n",
    "apellido = input(\"Escriba su apellido\")\n",
    "edad = input(\"Escriba su edad\")\n",
    "residencia = input(\"Escriba su  lugar de residencia\") \n",
    "\n",
    "# Imprimir en pantalla el resultado\n",
    "print(informacion_personal(nombre, apellido,edad,residencia))\n"
   ]
  },
  {
   "cell_type": "code",
   "execution_count": 13,
   "id": "9a762189",
   "metadata": {},
   "outputs": [
    {
     "name": "stdout",
     "output_type": "stream",
     "text": [
      "El area del circulo es: 50.2656, y su perimetro es: 25.1328\n"
     ]
    }
   ],
   "source": [
    "#  4 : Crear dos funciones:\n",
    "#  calcular_area_circulo(radio) que reciba el radio como parámetro y devuelva el área del círculo.\n",
    "# calcular_perimetro_circulo(radio) que reciba el radio como parámetro y devuelva el perímetro del círculo. \n",
    "# Solicitar el radio al usuario y llamar ambas funciones para mostrar los resultados.\n",
    "\n",
    "def calcular_area_circulo(radio):\n",
    "    area = 3.1416*(radio**2)\n",
    "    return area\n",
    "\n",
    "def calcular_perimetro_circulo(radio):\n",
    "    perimetro = 2*3.1416*radio\n",
    "    return perimetro\n",
    "\n",
    "radio=float(input(\"Escriba el radio del circulo: \"))\n",
    "\n",
    "print(f\"El area del circulo es: {calcular_area_circulo(radio)}, y su perimetro es: {calcular_perimetro_circulo(radio)}\")"
   ]
  },
  {
   "cell_type": "code",
   "execution_count": 14,
   "id": "7084bc8a",
   "metadata": {},
   "outputs": [
    {
     "name": "stdout",
     "output_type": "stream",
     "text": [
      "Sus segundos son 1.0\n"
     ]
    }
   ],
   "source": [
    "# 5. Crear una función llamada segundos_a_horas(segundos) que reciba\n",
    "# una cantidad de segundos como parámetro y devuelva la cantidad\n",
    "# de horas correspondientes. Solicitar al usuario los segundos y mostrar el resultado usando esta función.\n",
    "\n",
    "def segundos_a_horas(segundos):\n",
    "    horas = segundos/3600\n",
    "    return horas\n",
    "\n",
    "segundos= int(input(\"Ingrese los segundos: \"))\n",
    "\n",
    "print(f\"Sus segundos son {segundos_a_horas(segundos)}\")\n",
    "\n"
   ]
  },
  {
   "cell_type": "code",
   "execution_count": 8,
   "id": "5dd132ab",
   "metadata": {},
   "outputs": [
    {
     "name": "stdout",
     "output_type": "stream",
     "text": [
      "5\n",
      "10\n",
      "15\n",
      "20\n",
      "25\n",
      "30\n",
      "35\n",
      "40\n",
      "45\n",
      "50\n"
     ]
    }
   ],
   "source": [
    "# Crear una función llamada tabla_multiplicar(numero) que reciba un\n",
    "# número como parámetro e imprima la tabla de multiplicar de ese\n",
    "# número del 1 al 10.\n",
    "# Pedir al usuario el número y llamar a la función.\n",
    "\n",
    "def tabla_multiplicar(numero):\n",
    "    for i in range (1,11):\n",
    "       resultado = numero * i\n",
    "       print(resultado)\n",
    "    \n",
    "numero = int(input(\"Escriba un numero que sera multiplicado del 1 al 10: \"))\n",
    "tabla_multiplicar(numero)"
   ]
  },
  {
   "cell_type": "code",
   "execution_count": 4,
   "id": "d3d28a1c",
   "metadata": {},
   "outputs": [
    {
     "name": "stdout",
     "output_type": "stream",
     "text": [
      "La suma de sus numeros es: 15, la resta: 5, la multiplicacion: 50, la division: 2.0\n"
     ]
    }
   ],
   "source": [
    "# 7. Crear una función llamada operaciones_basicas(a, b) que reciba\n",
    "# dos números como parámetros y devuelva una tupla con el resultado de sumarlos, restarlos, multiplicarlos y dividirlos. Mostrar los resultados de forma clara.\n",
    "\n",
    "def operaciones_basicas(a, b):\n",
    "    suma = a+b\n",
    "    resta = a-b\n",
    "    multiplicacion = a*b\n",
    "    division = a/b\n",
    "    return[suma,resta,multiplicacion,division]\n",
    "\n",
    "\n",
    "num1=int(input(\"Escriba numero 1: \"))\n",
    "num2=int(input(\"Escriba numero 2: \"))\n",
    "\n",
    "tupla=operaciones_basicas(num1,num2)\n",
    "print(f\"La suma de sus numeros es: {tupla[0]}, la resta: {tupla[1]}, la multiplicacion: {tupla[2]}, la division: {tupla[3]}\")"
   ]
  },
  {
   "cell_type": "code",
   "execution_count": 6,
   "id": "ae6fa068",
   "metadata": {},
   "outputs": [
    {
     "name": "stdout",
     "output_type": "stream",
     "text": [
      "Su indice de masa corpora es de 22.79\n"
     ]
    }
   ],
   "source": [
    "# 8. Crear una función llamada calcular_imc(peso, altura) que reciba el\n",
    "# peso en kilogramos y la altura en metros, y devuelva el índice de\n",
    "# masa corporal (IMC). Solicitar al usuario los datos y llamar a la función para mostrar el resultado con dos decimales.\n",
    "def calcular_imc(peso, altura):\n",
    "    imc= peso / (altura**2)\n",
    "    print(f\"Su indice de masa corpora es de {round(imc,2)}\")\n",
    "\n",
    "peso= float(input(\"Escriba su peso en kilogramos: \")) \n",
    "altura=float(input(\"Escriba su altura en metros: \")) \n",
    "\n",
    "calcular_imc(peso,altura)\n",
    "\n"
   ]
  },
  {
   "cell_type": "code",
   "execution_count": null,
   "id": "65cc483f",
   "metadata": {},
   "outputs": [
    {
     "name": "stdout",
     "output_type": "stream",
     "text": [
      "Su temperatura en Celsius: 18.0 es equivalente a: 64.4 Farhenheit\n"
     ]
    }
   ],
   "source": [
    "# 9. Crear una función llamada celsius_a_fahrenheit(celsius) que reciba\n",
    "# una temperatura en grados Celsius y devuelva su equivalente en\n",
    "# Fahrenheit. Pedir al usuario la temperatura en Celsius y mostrar el\n",
    "# resultado usando la función.\n",
    "\n",
    "# Definir Funcion\n",
    "def celsius_a_fahrenheit(celsius):\n",
    "    # Creacion de la cuenta\n",
    "    conversion=(celsius * (9/5)) + 32\n",
    "    # Creacion del mensaje en pantalla\n",
    "    print(f\"Su temperatura en Celsius: {celsius} es equivalente a: {conversion} Farhenheit\")\n",
    "\n",
    "# Creacion de variable\n",
    "celsius =float(input(\"Escriba su temperatura en Celsius: \"))\n",
    "\n",
    "# Llamada a la funcion\n",
    "celsius_a_fahrenheit(celsius)\n",
    "\n"
   ]
  },
  {
   "cell_type": "code",
   "execution_count": 11,
   "id": "f352541c",
   "metadata": {},
   "outputs": [
    {
     "name": "stdout",
     "output_type": "stream",
     "text": [
      "Su promedio de 5 + 5 + 5 es: 5.0\n"
     ]
    }
   ],
   "source": [
    "# 10.Crear una función llamada calcular_promedio(a, b, c) que reciba\n",
    "# tres números como parámetros y devuelva el promedio de ellos.\n",
    "# Solicitar los números al usuario y mostrar el resultado usando esta\n",
    "# función.\n",
    "\n",
    "def calcular_promedio(a, b, c):\n",
    "    promedio = (a + b + c ) / 3\n",
    "    print(f\"Su promedio de {a} + {b} + {c} es: {promedio}\")\n",
    "\n",
    "num1 = int(input(\"Escriba su numero 1 :\"))\n",
    "num2 = int(input(\"Escriba su numero 2 :\"))\n",
    "num3 = int(input(\"Escriba su numero 3 :\"))\n",
    "\n",
    "calcular_promedio(num1,num2,num3)"
   ]
  }
 ],
 "metadata": {
  "kernelspec": {
   "display_name": "Python 3",
   "language": "python",
   "name": "python3"
  },
  "language_info": {
   "codemirror_mode": {
    "name": "ipython",
    "version": 3
   },
   "file_extension": ".py",
   "mimetype": "text/x-python",
   "name": "python",
   "nbconvert_exporter": "python",
   "pygments_lexer": "ipython3",
   "version": "3.11.9"
  }
 },
 "nbformat": 4,
 "nbformat_minor": 5
}
